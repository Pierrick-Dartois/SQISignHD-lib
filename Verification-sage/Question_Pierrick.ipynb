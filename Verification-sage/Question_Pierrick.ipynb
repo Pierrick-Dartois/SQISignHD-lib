{
 "cells": [
  {
   "cell_type": "code",
   "execution_count": 1,
   "id": "5d2e84ee-3803-42c7-907c-cd5cc6f9e496",
   "metadata": {},
   "outputs": [],
   "source": [
    "from sage.all import *\n",
    "from sage.schemes.elliptic_curves.hom_frobenius import EllipticCurveHom_frobenius\n",
    "\n",
    "#HR import\n",
    "from sage.schemes.elliptic_curves.hom_composite import EllipticCurveHom_composite\n",
    "from time import time\n",
    "\n",
    "from parameters.parameter_generation import read_params, find_param, find_param_gen, save_params\n",
    "from utilities.supersingular import random_point, compute_point_order_D, torsion_basis\n",
    "from isogenies.Kani_endomorphism import KaniEndo, KaniEndoHalf\n",
    "from theta_structures.Tuple_point import TuplePoint\n",
    "from montgomery_isogenies.isogenies_x_only import isogeny_from_scalar_x_only, evaluate_isogeny_x_only\n",
    "from basis_change.canonical_basis_dim1 import make_canonical\n",
    "from utilities.strategy import precompute_strategy_with_first_eval, precompute_strategy_with_first_eval_and_splitting"
   ]
  },
  {
   "cell_type": "markdown",
   "id": "bc2c5d07-80dc-41e5-8be8-37bf0b10ef8b",
   "metadata": {},
   "source": [
    "The goal is to construct a 4D representation of an endomorphism of large degree over a cryptographically large field."
   ]
  },
  {
   "cell_type": "code",
   "execution_count": 2,
   "id": "3b8da189-1c6f-41be-9721-cc881c0cb7b6",
   "metadata": {},
   "outputs": [],
   "source": [
    "# Construction of a curve E1 with no additional automorphisms from E1728\n",
    "\n",
    "p = (2^409)*31 - 1;\n",
    "K.<i>=GF(p**2,'i',modulus=[1,0,1],proof=False)\n",
    "E1728 = EllipticCurve(K,[1,0]).montgomery_model();\n",
    "\n",
    "# A 31-torsion basis\n",
    "P31 = E1728(18164032128839059988568742675776842209139618729855461560483615855944772133627992670220534135836213794768222809093040385156630*i + 31242978218487975138283563260665570176268755555201255995607305749422321088070245703832087186673769953903044664369187512278091,12156818949863445228081066556995488984938032059032694318421574269020953231081745400636909490499799488543659937317844326740665*i + 23571854642288383361165406676793687762832597517437623283240470804449567011820052890451084989166297337333370220875734444231894,1);\n",
    "Q31 = E1728(25202808321769688784710477507373840344762159744055984394958702647907595074668954588547727611194733258934536364750558628814838*i + 2013827789490608703731879760397100876683602176029348027311721566436449896204706401004434564771846492111048293166204645255549,30845114248479757312430552687614220582768522984408689306504296874146708859378389210267190147187757933792998911162327460471394*i + 32736763418012592783002500903721064162756913358764017618708499381157290081935893757119675284364339599072981985107366889822241);\n",
    "\n",
    "# A random 31-isogeny\n",
    "T = 24*P31 + 29*Q31;\n",
    "phi = E1728.isogeny(T,model=\"montgomery\");\n",
    "E1 = phi.codomain();\n",
    "\n",
    "# We compute a basis of the 2^409-torsion\n",
    "P2,Q2 = E1728.torsion_basis(2^409);\n",
    "P2 = phi(P2); Q2 = phi(Q2);\n",
    "phi_dual = phi.dual();"
   ]
  },
  {
   "cell_type": "code",
   "execution_count": 3,
   "id": "02fccd29-f577-49ca-94a8-3d83d1bc0776",
   "metadata": {},
   "outputs": [],
   "source": [
    "# We almost construct a basis of the endomorphism ring (we take index 2 subring)\n",
    "almost_End_E1728 = [E1728.identity_morphism()];\n",
    "for j in E1728.automorphisms():\n",
    "    if j^2 == -1:\n",
    "        almost_End_E1728 += [j];\n",
    "        break;\n",
    "almost_End_E1728 += [EllipticCurveHom_frobenius(E1728), EllipticCurveHom_frobenius(E1728)*almost_End_E1728[1]]; # = [identity, iota:(x,y) |-> (x,alpha y) with alpha^2 = -1,frobenius, iota*frobenius]"
   ]
  },
  {
   "cell_type": "code",
   "execution_count": 8,
   "id": "b63a4521-c8c4-4885-9138-2c7d1efb014e",
   "metadata": {},
   "outputs": [],
   "source": [
    "# We take an endomorphism in this subring that can be represented using Dim 4\n",
    "a,b,c,d = [11467137290107925521157662155391785363462553153077205334749603008212229901718577292,\n",
    " 171402665276917795260544755764090323812980,\n",
    " 49130984663729591851,\n",
    " 74954008488733524786];\n",
    "theta = E1728.scalar_multiplication(a) + E1728.scalar_multiplication(b)*almost_End_E1728[1] + E1728.scalar_multiplication(c)*almost_End_E1728[2] + E1728.scalar_multiplication(d)*almost_End_E1728[3];\n",
    "deg_theta = a^2 + b^2 + (c^2)*p + (d^2)*p; # Coming from the fact that theta = a + b*iota + c*pi + d*iota*pi\n",
    "a1,a2 = (475154821954838321606, 1938663281226055004821);\n",
    "e,f = (547, 276);"
   ]
  },
  {
   "cell_type": "code",
   "execution_count": 9,
   "id": "794e1a41-a357-4e5b-98e6-32cf3b9aaec9",
   "metadata": {},
   "outputs": [
    {
     "data": {
      "text/plain": [
       "True"
      ]
     },
     "execution_count": 9,
     "metadata": {},
     "output_type": "execute_result"
    }
   ],
   "source": [
    "# We check if we have the correct relation\n",
    "2^e == deg_theta + a1^2 + a2^2"
   ]
  },
  {
   "cell_type": "markdown",
   "id": "033bb5aa-c8a0-4979-99d8-ce7abe42f961",
   "metadata": {},
   "source": [
    "From this setup : $ E_{1728} \\rightarrow^{\\theta} E_{1728} \\rightarrow^{\\phi} E_1 \\rightarrow^{\\psi} E_1$\n",
    "where $\\psi = \\frac{\\phi \\circ \\theta \\circ \\hat{\\phi}}{31}$, we want to compute a 4D representation of $\\psi$. To this end, we use the fact that $\\deg \\psi = \\deg \\theta$, thus we have\n",
    "$\\deg \\psi + a1^2 + a2^2 = 2^e$."
   ]
  },
  {
   "cell_type": "code",
   "execution_count": 10,
   "id": "6843da06-d4e5-4b3f-8e76-72e3e69b04ae",
   "metadata": {},
   "outputs": [],
   "source": [
    "# We construct a f-torsion basis over E1\n",
    "ff = 409 - f;\n",
    "P = 2^ff*P2; Q = 2^ff*Q2; "
   ]
  },
  {
   "cell_type": "code",
   "execution_count": 11,
   "id": "483e2367-b106-4b3b-b42a-52057656c559",
   "metadata": {},
   "outputs": [],
   "source": [
    "R = phi(theta(phi_dual(P))); S = phi(theta(phi_dual(Q))); # We apply the lollipop endomorphism"
   ]
  },
  {
   "cell_type": "code",
   "execution_count": 12,
   "id": "9d4e3c87-bf44-4e51-ad31-dc041b541d57",
   "metadata": {},
   "outputs": [],
   "source": [
    "R = inverse_mod(31,2^f)*R; S = inverse_mod(31,2^f)*S; # We divide by deg(phi) to conserve the equality to a sum of two squares"
   ]
  },
  {
   "cell_type": "code",
   "execution_count": 13,
   "id": "e9f978e9-f1cb-4054-b66b-40fafa616dfe",
   "metadata": {},
   "outputs": [],
   "source": [
    "F = KaniEndoHalf(P,Q,R,S,deg_theta,a1,a2,e,f)"
   ]
  },
  {
   "cell_type": "code",
   "execution_count": 30,
   "id": "b6e47f14",
   "metadata": {},
   "outputs": [
    {
     "data": {
      "text/plain": [
       "False"
      ]
     },
     "execution_count": 30,
     "metadata": {},
     "output_type": "execute_result"
    }
   ],
   "source": [
    "F.F1._isogenies[-1].codomain().hadamard().null_point()==F.F2_dual._isogenies[-1].codomain().null_point()"
   ]
  },
  {
   "cell_type": "code",
   "execution_count": 10,
   "id": "fea1654a-3481-411d-a065-337682dd16eb",
   "metadata": {},
   "outputs": [],
   "source": [
    "#Let's try to apply the endomorphism"
   ]
  },
  {
   "cell_type": "code",
   "execution_count": 14,
   "id": "b2e3c2c5-c955-416e-965f-08e8b92bda59",
   "metadata": {},
   "outputs": [],
   "source": [
    "PP = TuplePoint([E1.random_point(), E1(0), E1(0), E1(0)]);"
   ]
  },
  {
   "cell_type": "code",
   "execution_count": 15,
   "id": "5b8743ef-2313-47bb-a48c-db0e7dde46bb",
   "metadata": {},
   "outputs": [
    {
     "ename": "AssertionError",
     "evalue": "",
     "output_type": "error",
     "traceback": [
      "\u001b[0;31m---------------------------------------------------------------------------\u001b[0m",
      "\u001b[0;31mAssertionError\u001b[0m                            Traceback (most recent call last)",
      "Cell \u001b[0;32mIn[15], line 1\u001b[0m\n\u001b[0;32m----> 1\u001b[0m \u001b[43mF\u001b[49m\u001b[43m(\u001b[49m\u001b[43mPP\u001b[49m\u001b[43m)\u001b[49m\n",
      "File \u001b[0;32m~/Documents/SQISignHD-lib/Verification-sage/isogenies/Kani_endomorphism.py:272\u001b[0m, in \u001b[0;36mKaniEndoHalf.__call__\u001b[0;34m(self, P)\u001b[0m\n\u001b[1;32m    271\u001b[0m \u001b[38;5;28;01mdef\u001b[39;00m \u001b[38;5;21m__call__\u001b[39m(\u001b[38;5;28mself\u001b[39m,P):\n\u001b[0;32m--> 272\u001b[0m \t\u001b[38;5;28;01mreturn\u001b[39;00m \u001b[38;5;28;43mself\u001b[39;49m\u001b[38;5;241;43m.\u001b[39;49m\u001b[43mevaluate\u001b[49m\u001b[43m(\u001b[49m\u001b[43mP\u001b[49m\u001b[43m)\u001b[49m\n",
      "File \u001b[0;32m~/Documents/SQISignHD-lib/Verification-sage/isogenies/Kani_endomorphism.py:266\u001b[0m, in \u001b[0;36mKaniEndoHalf.evaluate\u001b[0;34m(self, P)\u001b[0m\n\u001b[1;32m    264\u001b[0m \tQ\u001b[38;5;241m=\u001b[39mP\n\u001b[1;32m    265\u001b[0m FP\u001b[38;5;241m=\u001b[39m\u001b[38;5;28mself\u001b[39m\u001b[38;5;241m.\u001b[39mF1\u001b[38;5;241m.\u001b[39mevaluate_isogeny(Q)\n\u001b[0;32m--> 266\u001b[0m FP\u001b[38;5;241m=\u001b[39m\u001b[38;5;28;43mself\u001b[39;49m\u001b[38;5;241;43m.\u001b[39;49m\u001b[43mF2\u001b[49m\u001b[38;5;241;43m.\u001b[39;49m\u001b[43mevaluate_isogeny\u001b[49m\u001b[43m(\u001b[49m\u001b[43mFP\u001b[49m\u001b[43m)\u001b[49m\n\u001b[1;32m    267\u001b[0m \u001b[38;5;28;01mif\u001b[39;00m \u001b[38;5;28mself\u001b[39m\u001b[38;5;241m.\u001b[39mswap:\n\u001b[1;32m    268\u001b[0m \tFP\u001b[38;5;241m=\u001b[39mTuplePoint(FP[\u001b[38;5;241m0\u001b[39m],\u001b[38;5;241m-\u001b[39mFP[\u001b[38;5;241m1\u001b[39m],FP[\u001b[38;5;241m3\u001b[39m],FP[\u001b[38;5;241m2\u001b[39m])\n",
      "File \u001b[0;32m~/Documents/SQISignHD-lib/Verification-sage/isogenies/isogeny_chain_dim4.py:102\u001b[0m, in \u001b[0;36mDualIsogenyChainDim4.evaluate_isogeny\u001b[0;34m(self, P)\u001b[0m\n\u001b[1;32m    100\u001b[0m Q\u001b[38;5;241m=\u001b[39mP\n\u001b[1;32m    101\u001b[0m \u001b[38;5;28;01mfor\u001b[39;00m j \u001b[38;5;129;01min\u001b[39;00m \u001b[38;5;28mrange\u001b[39m(n):\n\u001b[0;32m--> 102\u001b[0m \tQ\u001b[38;5;241m=\u001b[39m\u001b[38;5;28;43mself\u001b[39;49m\u001b[38;5;241;43m.\u001b[39;49m\u001b[43m_isogenies\u001b[49m\u001b[43m[\u001b[49m\u001b[43mj\u001b[49m\u001b[43m]\u001b[49m\u001b[43m(\u001b[49m\u001b[43mQ\u001b[49m\u001b[43m)\u001b[49m\n\u001b[1;32m    103\u001b[0m \u001b[38;5;28;01mreturn\u001b[39;00m Q\n",
      "File \u001b[0;32m~/Documents/SQISignHD-lib/Verification-sage/isogenies/Kani_gluing_isogeny_chain_dim4.py:304\u001b[0m, in \u001b[0;36mKaniSplittingIsogenyChainDim4.__call__\u001b[0;34m(self, P)\u001b[0m\n\u001b[1;32m    303\u001b[0m \u001b[38;5;28;01mdef\u001b[39;00m \u001b[38;5;21m__call__\u001b[39m(\u001b[38;5;28mself\u001b[39m,P):\n\u001b[0;32m--> 304\u001b[0m \t\u001b[38;5;28;01mreturn\u001b[39;00m \u001b[38;5;28;43mself\u001b[39;49m\u001b[38;5;241;43m.\u001b[39;49m\u001b[43mevaluate\u001b[49m\u001b[43m(\u001b[49m\u001b[43mP\u001b[49m\u001b[43m)\u001b[49m\n",
      "File \u001b[0;32m~/Documents/SQISignHD-lib/Verification-sage/isogenies/Kani_gluing_isogeny_chain_dim4.py:298\u001b[0m, in \u001b[0;36mKaniSplittingIsogenyChainDim4.evaluate\u001b[0;34m(self, P)\u001b[0m\n\u001b[1;32m    295\u001b[0m Q1, Q2 \u001b[38;5;241m=\u001b[39m \u001b[38;5;28mself\u001b[39m\u001b[38;5;241m.\u001b[39mcodomain_product\u001b[38;5;241m.\u001b[39mto_theta_points(Q)\n\u001b[1;32m    296\u001b[0m Q1, Q2 \u001b[38;5;241m=\u001b[39m \u001b[38;5;28mself\u001b[39m\u001b[38;5;241m.\u001b[39m_isogenies_dim2\u001b[38;5;241m.\u001b[39m_domain(Q1\u001b[38;5;241m.\u001b[39mhadamard()), \u001b[38;5;28mself\u001b[39m\u001b[38;5;241m.\u001b[39m_isogenies_dim2\u001b[38;5;241m.\u001b[39m_domain(Q2\u001b[38;5;241m.\u001b[39mhadamard()) \n\u001b[0;32m--> 298\u001b[0m Q1 \u001b[38;5;241m=\u001b[39m \u001b[38;5;28;43mself\u001b[39;49m\u001b[38;5;241;43m.\u001b[39;49m\u001b[43m_isogenies_dim2\u001b[49m\u001b[43m(\u001b[49m\u001b[43mQ1\u001b[49m\u001b[43m)\u001b[49m\n\u001b[1;32m    299\u001b[0m Q2 \u001b[38;5;241m=\u001b[39m \u001b[38;5;28mself\u001b[39m\u001b[38;5;241m.\u001b[39m_isogenies_dim2(Q2)\n\u001b[1;32m    301\u001b[0m \u001b[38;5;28;01mreturn\u001b[39;00m TuplePoint(Q1[\u001b[38;5;241m0\u001b[39m],Q2[\u001b[38;5;241m0\u001b[39m],Q1[\u001b[38;5;241m1\u001b[39m],Q2[\u001b[38;5;241m1\u001b[39m])\n",
      "File \u001b[0;32m~/Documents/SQISignHD-lib/Verification-sage/isogenies_dim2/isogeny_chain_dim2.py:178\u001b[0m, in \u001b[0;36mDualIsogenyChainDim2.__call__\u001b[0;34m(self, P)\u001b[0m\n\u001b[1;32m    174\u001b[0m \u001b[38;5;28;01mdef\u001b[39;00m \u001b[38;5;21m__call__\u001b[39m(\u001b[38;5;28mself\u001b[39m, P):\n\u001b[1;32m    175\u001b[0m \u001b[38;5;250m    \u001b[39m\u001b[38;5;124;03m\"\"\"\u001b[39;00m\n\u001b[1;32m    176\u001b[0m \u001b[38;5;124;03m    Evaluate a ThetaPointDim2 under the action of this isogeny.\u001b[39;00m\n\u001b[1;32m    177\u001b[0m \u001b[38;5;124;03m    \"\"\"\u001b[39;00m\n\u001b[0;32m--> 178\u001b[0m     \u001b[38;5;28;01mreturn\u001b[39;00m \u001b[38;5;28;43mself\u001b[39;49m\u001b[38;5;241;43m.\u001b[39;49m\u001b[43mevaluate_isogeny\u001b[49m\u001b[43m(\u001b[49m\u001b[43mP\u001b[49m\u001b[43m)\u001b[49m\n",
      "File \u001b[0;32m~/Documents/SQISignHD-lib/Verification-sage/isogenies_dim2/isogeny_chain_dim2.py:171\u001b[0m, in \u001b[0;36mDualIsogenyChainDim2.evaluate_isogeny\u001b[0;34m(self, P)\u001b[0m\n\u001b[1;32m    169\u001b[0m n\u001b[38;5;241m=\u001b[39m\u001b[38;5;28mlen\u001b[39m(\u001b[38;5;28mself\u001b[39m\u001b[38;5;241m.\u001b[39m_phis)\n\u001b[1;32m    170\u001b[0m \u001b[38;5;28;01mfor\u001b[39;00m i \u001b[38;5;129;01min\u001b[39;00m \u001b[38;5;28mrange\u001b[39m(n):\n\u001b[0;32m--> 171\u001b[0m     P \u001b[38;5;241m=\u001b[39m \u001b[38;5;28;43mself\u001b[39;49m\u001b[38;5;241;43m.\u001b[39;49m\u001b[43m_phis\u001b[49m\u001b[43m[\u001b[49m\u001b[43mi\u001b[49m\u001b[43m]\u001b[49m\u001b[43m(\u001b[49m\u001b[43mP\u001b[49m\u001b[43m)\u001b[49m\n\u001b[1;32m    172\u001b[0m \u001b[38;5;28;01mreturn\u001b[39;00m P\n",
      "File \u001b[0;32m~/Documents/SQISignHD-lib/Verification-sage/isogenies_dim2/gluing_isogeny_dim2.py:270\u001b[0m, in \u001b[0;36mDualGluingThetaIsogenyDim2.__call__\u001b[0;34m(self, P)\u001b[0m\n\u001b[1;32m    266\u001b[0m X2\u001b[38;5;241m=\u001b[39mZ1X2\u001b[38;5;241m*\u001b[39mZ2_inv\u001b[38;5;66;03m# Normalize (X2:Z2)=(X2/Z2:1)\u001b[39;00m\n\u001b[1;32m    268\u001b[0m X1\u001b[38;5;241m=\u001b[39mX1Z2\u001b[38;5;241m*\u001b[39mZ2_inv\n\u001b[0;32m--> 270\u001b[0m \u001b[38;5;28;01massert\u001b[39;00m X1\u001b[38;5;241m*\u001b[39mZ1X2\u001b[38;5;241m==\u001b[39mX1X2\n\u001b[1;32m    271\u001b[0m P1 \u001b[38;5;241m=\u001b[39m lift_kummer_montgomery_point(E1, X1)\n\u001b[1;32m    272\u001b[0m P2 \u001b[38;5;241m=\u001b[39m lift_kummer_montgomery_point(E2, X2)\n",
      "\u001b[0;31mAssertionError\u001b[0m: "
     ]
    }
   ],
   "source": [
    "F(PP)"
   ]
  },
  {
   "cell_type": "code",
   "execution_count": 13,
   "id": "636bdda7-e0bf-42ca-83ba-0013d0b1bdbe",
   "metadata": {},
   "outputs": [
    {
     "data": {
      "text/plain": [
       "True"
      ]
     },
     "execution_count": 13,
     "metadata": {},
     "output_type": "execute_result"
    }
   ],
   "source": [
    "# I'm also trying with P.parent() as E1 is apparently different.\n",
    "P.parent() == Q.parent() == R.parent() == S.parent() != E1"
   ]
  },
  {
   "cell_type": "code",
   "execution_count": 14,
   "id": "dacd6710-d9d7-4757-8409-5dce92a2822e",
   "metadata": {},
   "outputs": [],
   "source": [
    "PP = TuplePoint([P.parent()(E1.random_point()), P.parent()(0),P.parent()(0),P.parent()(0)]);"
   ]
  },
  {
   "cell_type": "code",
   "execution_count": 15,
   "id": "badf48f5-acfc-4cf3-9264-c607ad0e070f",
   "metadata": {},
   "outputs": [
    {
     "ename": "AssertionError",
     "evalue": "",
     "output_type": "error",
     "traceback": [
      "\u001b[0;31m---------------------------------------------------------------------------\u001b[0m",
      "\u001b[0;31mAssertionError\u001b[0m                            Traceback (most recent call last)",
      "Cell \u001b[0;32mIn[15], line 1\u001b[0m\n\u001b[0;32m----> 1\u001b[0m \u001b[43mF\u001b[49m\u001b[43m(\u001b[49m\u001b[43mPP\u001b[49m\u001b[43m)\u001b[49m\n",
      "File \u001b[0;32m~/Documents/pratical-clapoti/30-05-24-train/isogenies/Kani_endomorphism.py:272\u001b[0m, in \u001b[0;36mKaniEndoHalf.__call__\u001b[0;34m(self, P)\u001b[0m\n\u001b[1;32m    271\u001b[0m \u001b[38;5;28;01mdef\u001b[39;00m \u001b[38;5;21m__call__\u001b[39m(\u001b[38;5;28mself\u001b[39m,P):\n\u001b[0;32m--> 272\u001b[0m \t\u001b[38;5;28;01mreturn\u001b[39;00m \u001b[38;5;28;43mself\u001b[39;49m\u001b[38;5;241;43m.\u001b[39;49m\u001b[43mevaluate\u001b[49m\u001b[43m(\u001b[49m\u001b[43mP\u001b[49m\u001b[43m)\u001b[49m\n",
      "File \u001b[0;32m~/Documents/pratical-clapoti/30-05-24-train/isogenies/Kani_endomorphism.py:266\u001b[0m, in \u001b[0;36mKaniEndoHalf.evaluate\u001b[0;34m(self, P)\u001b[0m\n\u001b[1;32m    264\u001b[0m \tQ\u001b[38;5;241m=\u001b[39mP\n\u001b[1;32m    265\u001b[0m FP\u001b[38;5;241m=\u001b[39m\u001b[38;5;28mself\u001b[39m\u001b[38;5;241m.\u001b[39mF1\u001b[38;5;241m.\u001b[39mevaluate_isogeny(Q)\n\u001b[0;32m--> 266\u001b[0m FP\u001b[38;5;241m=\u001b[39m\u001b[38;5;28;43mself\u001b[39;49m\u001b[38;5;241;43m.\u001b[39;49m\u001b[43mF2\u001b[49m\u001b[38;5;241;43m.\u001b[39;49m\u001b[43mevaluate_isogeny\u001b[49m\u001b[43m(\u001b[49m\u001b[43mFP\u001b[49m\u001b[43m)\u001b[49m\n\u001b[1;32m    267\u001b[0m \u001b[38;5;28;01mif\u001b[39;00m \u001b[38;5;28mself\u001b[39m\u001b[38;5;241m.\u001b[39mswap:\n\u001b[1;32m    268\u001b[0m \tFP\u001b[38;5;241m=\u001b[39mTuplePoint(FP[\u001b[38;5;241m0\u001b[39m],\u001b[38;5;241m-\u001b[39mFP[\u001b[38;5;241m1\u001b[39m],FP[\u001b[38;5;241m3\u001b[39m],FP[\u001b[38;5;241m2\u001b[39m])\n",
      "File \u001b[0;32m~/Documents/pratical-clapoti/30-05-24-train/isogenies/isogeny_chain_dim4.py:102\u001b[0m, in \u001b[0;36mDualIsogenyChainDim4.evaluate_isogeny\u001b[0;34m(self, P)\u001b[0m\n\u001b[1;32m    100\u001b[0m Q\u001b[38;5;241m=\u001b[39mP\n\u001b[1;32m    101\u001b[0m \u001b[38;5;28;01mfor\u001b[39;00m j \u001b[38;5;129;01min\u001b[39;00m \u001b[38;5;28mrange\u001b[39m(n):\n\u001b[0;32m--> 102\u001b[0m \tQ\u001b[38;5;241m=\u001b[39m\u001b[38;5;28;43mself\u001b[39;49m\u001b[38;5;241;43m.\u001b[39;49m\u001b[43m_isogenies\u001b[49m\u001b[43m[\u001b[49m\u001b[43mj\u001b[49m\u001b[43m]\u001b[49m\u001b[43m(\u001b[49m\u001b[43mQ\u001b[49m\u001b[43m)\u001b[49m\n\u001b[1;32m    103\u001b[0m \u001b[38;5;28;01mreturn\u001b[39;00m Q\n",
      "File \u001b[0;32m~/Documents/pratical-clapoti/30-05-24-train/isogenies/Kani_gluing_isogeny_chain_dim4.py:304\u001b[0m, in \u001b[0;36mKaniSplittingIsogenyChainDim4.__call__\u001b[0;34m(self, P)\u001b[0m\n\u001b[1;32m    303\u001b[0m \u001b[38;5;28;01mdef\u001b[39;00m \u001b[38;5;21m__call__\u001b[39m(\u001b[38;5;28mself\u001b[39m,P):\n\u001b[0;32m--> 304\u001b[0m \t\u001b[38;5;28;01mreturn\u001b[39;00m \u001b[38;5;28;43mself\u001b[39;49m\u001b[38;5;241;43m.\u001b[39;49m\u001b[43mevaluate\u001b[49m\u001b[43m(\u001b[49m\u001b[43mP\u001b[49m\u001b[43m)\u001b[49m\n",
      "File \u001b[0;32m~/Documents/pratical-clapoti/30-05-24-train/isogenies/Kani_gluing_isogeny_chain_dim4.py:298\u001b[0m, in \u001b[0;36mKaniSplittingIsogenyChainDim4.evaluate\u001b[0;34m(self, P)\u001b[0m\n\u001b[1;32m    295\u001b[0m Q1, Q2 \u001b[38;5;241m=\u001b[39m \u001b[38;5;28mself\u001b[39m\u001b[38;5;241m.\u001b[39mcodomain_product\u001b[38;5;241m.\u001b[39mto_theta_points(Q)\n\u001b[1;32m    296\u001b[0m Q1, Q2 \u001b[38;5;241m=\u001b[39m \u001b[38;5;28mself\u001b[39m\u001b[38;5;241m.\u001b[39m_isogenies_dim2\u001b[38;5;241m.\u001b[39m_domain(Q1\u001b[38;5;241m.\u001b[39mhadamard()), \u001b[38;5;28mself\u001b[39m\u001b[38;5;241m.\u001b[39m_isogenies_dim2\u001b[38;5;241m.\u001b[39m_domain(Q2\u001b[38;5;241m.\u001b[39mhadamard()) \n\u001b[0;32m--> 298\u001b[0m Q1 \u001b[38;5;241m=\u001b[39m \u001b[38;5;28;43mself\u001b[39;49m\u001b[38;5;241;43m.\u001b[39;49m\u001b[43m_isogenies_dim2\u001b[49m\u001b[43m(\u001b[49m\u001b[43mQ1\u001b[49m\u001b[43m)\u001b[49m\n\u001b[1;32m    299\u001b[0m Q2 \u001b[38;5;241m=\u001b[39m \u001b[38;5;28mself\u001b[39m\u001b[38;5;241m.\u001b[39m_isogenies_dim2(Q2)\n\u001b[1;32m    301\u001b[0m \u001b[38;5;28;01mreturn\u001b[39;00m TuplePoint(Q1[\u001b[38;5;241m0\u001b[39m],Q2[\u001b[38;5;241m0\u001b[39m],Q1[\u001b[38;5;241m1\u001b[39m],Q2[\u001b[38;5;241m1\u001b[39m])\n",
      "File \u001b[0;32m~/Documents/pratical-clapoti/30-05-24-train/isogenies_dim2/isogeny_chain_dim2.py:178\u001b[0m, in \u001b[0;36mDualIsogenyChainDim2.__call__\u001b[0;34m(self, P)\u001b[0m\n\u001b[1;32m    174\u001b[0m \u001b[38;5;28;01mdef\u001b[39;00m \u001b[38;5;21m__call__\u001b[39m(\u001b[38;5;28mself\u001b[39m, P):\n\u001b[1;32m    175\u001b[0m \u001b[38;5;250m    \u001b[39m\u001b[38;5;124;03m\"\"\"\u001b[39;00m\n\u001b[1;32m    176\u001b[0m \u001b[38;5;124;03m    Evaluate a ThetaPointDim2 under the action of this isogeny.\u001b[39;00m\n\u001b[1;32m    177\u001b[0m \u001b[38;5;124;03m    \"\"\"\u001b[39;00m\n\u001b[0;32m--> 178\u001b[0m     \u001b[38;5;28;01mreturn\u001b[39;00m \u001b[38;5;28;43mself\u001b[39;49m\u001b[38;5;241;43m.\u001b[39;49m\u001b[43mevaluate_isogeny\u001b[49m\u001b[43m(\u001b[49m\u001b[43mP\u001b[49m\u001b[43m)\u001b[49m\n",
      "File \u001b[0;32m~/Documents/pratical-clapoti/30-05-24-train/isogenies_dim2/isogeny_chain_dim2.py:171\u001b[0m, in \u001b[0;36mDualIsogenyChainDim2.evaluate_isogeny\u001b[0;34m(self, P)\u001b[0m\n\u001b[1;32m    169\u001b[0m n\u001b[38;5;241m=\u001b[39m\u001b[38;5;28mlen\u001b[39m(\u001b[38;5;28mself\u001b[39m\u001b[38;5;241m.\u001b[39m_phis)\n\u001b[1;32m    170\u001b[0m \u001b[38;5;28;01mfor\u001b[39;00m i \u001b[38;5;129;01min\u001b[39;00m \u001b[38;5;28mrange\u001b[39m(n):\n\u001b[0;32m--> 171\u001b[0m     P \u001b[38;5;241m=\u001b[39m \u001b[38;5;28;43mself\u001b[39;49m\u001b[38;5;241;43m.\u001b[39;49m\u001b[43m_phis\u001b[49m\u001b[43m[\u001b[49m\u001b[43mi\u001b[49m\u001b[43m]\u001b[49m\u001b[43m(\u001b[49m\u001b[43mP\u001b[49m\u001b[43m)\u001b[49m\n\u001b[1;32m    172\u001b[0m \u001b[38;5;28;01mreturn\u001b[39;00m P\n",
      "File \u001b[0;32m~/Documents/pratical-clapoti/30-05-24-train/isogenies_dim2/gluing_isogeny_dim2.py:270\u001b[0m, in \u001b[0;36mDualGluingThetaIsogenyDim2.__call__\u001b[0;34m(self, P)\u001b[0m\n\u001b[1;32m    266\u001b[0m X2\u001b[38;5;241m=\u001b[39mZ1X2\u001b[38;5;241m*\u001b[39mZ2_inv\u001b[38;5;66;03m# Normalize (X2:Z2)=(X2/Z2:1)\u001b[39;00m\n\u001b[1;32m    268\u001b[0m X1\u001b[38;5;241m=\u001b[39mX1Z2\u001b[38;5;241m*\u001b[39mZ2_inv\n\u001b[0;32m--> 270\u001b[0m \u001b[38;5;28;01massert\u001b[39;00m X1\u001b[38;5;241m*\u001b[39mZ1X2\u001b[38;5;241m==\u001b[39mX1X2\n\u001b[1;32m    271\u001b[0m P1 \u001b[38;5;241m=\u001b[39m lift_kummer_montgomery_point(E1, X1)\n\u001b[1;32m    272\u001b[0m P2 \u001b[38;5;241m=\u001b[39m lift_kummer_montgomery_point(E2, X2)\n",
      "\u001b[0;31mAssertionError\u001b[0m: "
     ]
    }
   ],
   "source": [
    "F(PP)"
   ]
  },
  {
   "cell_type": "markdown",
   "id": "5dd99a12-816a-4a3b-a847-8c15839daad8",
   "metadata": {},
   "source": [
    "Testing with other endomorphisms:"
   ]
  },
  {
   "cell_type": "code",
   "execution_count": 16,
   "id": "b4fe9893-1742-4d3a-aa30-3ccec14a739e",
   "metadata": {},
   "outputs": [],
   "source": [
    "# Here are the functions I used to compute an endomorphism theta over E1728 together with a1, a2, e and f such that 2^e == deg_theta + a1^2 + a2^2 and f = ceil(e/2) +2\n",
    "\n",
    "disc = 2^529\n",
    "ZZbound = Integers(ceil(disc^(1/8)));\n",
    "def rand_int_bound():\n",
    "    return ZZ(ZZbound.random_element());\n",
    "    \n",
    "def find_endo():\n",
    "    c,d = [rand_int_bound() for i in [1..2]];\n",
    "    P = p*(c^2 + d^2);\n",
    "    e = ceil(log(P,2));\n",
    "    square_list = four_squares(2^e - P);\n",
    "    L = [is_prime(square_list[i]^2 + P) for i in range(4)];\n",
    "    while L == [0,0,0,0]:\n",
    "        c,d = [rand_int_bound() for i in [1..2]];\n",
    "        P = p*(c^2 + d^2);\n",
    "        e = ceil(log(P,2));\n",
    "        square_list = four_squares(2^e - P);\n",
    "        L = [is_prime(square_list[i]^2 + P) for i in range(4)];\n",
    "    \n",
    "    i = L.index(1);\n",
    "    b = square_list[i];\n",
    "    a = square_list[mod(i+1,4)];\n",
    "    a1 = square_list[mod(i+2,4)];\n",
    "    a2 = square_list[mod(i+3,4)];\n",
    "    \n",
    "    deg_theta0 = b^2 + (c^2)*p + (d^2)*p; #in addition trace_theta0 = 0\n",
    "    deg_theta = deg_theta0 + a^2;\n",
    "    theta0 = (E1728.scalar_multiplication(b)*almost_End_E1728[1] + E1728.scalar_multiplication(c)*almost_End_E1728[2] + E1728.scalar_multiplication(d)*almost_End_E1728[3]);\n",
    "    theta = E1728.scalar_multiplication(a) + theta0;\n",
    "    tr_theta = 2*a;\n",
    "    disc0 = -4*deg_theta0;\n",
    "    f = ceil(e/2) + 2;\n",
    "    return [a,b,c,d],a1,a2,deg_theta,theta,e,f;"
   ]
  },
  {
   "cell_type": "code",
   "execution_count": 17,
   "id": "48f55efd-b978-4603-af45-d731fac45bc5",
   "metadata": {},
   "outputs": [],
   "source": [
    "# If you want to generate a new endomorphism\n",
    "A,a1,a2,deg_theta,theta,e,f = find_endo();"
   ]
  },
  {
   "cell_type": "code",
   "execution_count": 18,
   "id": "75f4fd30-d427-4ec4-8e86-e1db03e58920",
   "metadata": {},
   "outputs": [],
   "source": [
    "# And test it (It does not always lead to working KaniEndoHalf):\n",
    "ff = 409 - f;\n",
    "P = 2^ff*P2; Q = 2^ff*Q2; \n",
    "R = phi(theta(phi_dual(P))); S = phi(theta(phi_dual(Q)));\n",
    "R = inverse_mod(31,2^f)*R; S = inverse_mod(31,2^f)*S;\n",
    "F = KaniEndoHalf(P,Q,R,S,deg_theta,a1,a2,e,f);"
   ]
  },
  {
   "cell_type": "code",
   "execution_count": 19,
   "id": "a8e8e5b9-d3c2-4d69-8e16-59e186f31bf5",
   "metadata": {},
   "outputs": [],
   "source": [
    "PP = TuplePoint([E1.random_point(), E1(0), E1(0), E1(0)]);"
   ]
  },
  {
   "cell_type": "code",
   "execution_count": 20,
   "id": "af062456-2299-48f2-8dc3-cdd0dcea4128",
   "metadata": {},
   "outputs": [
    {
     "ename": "AssertionError",
     "evalue": "",
     "output_type": "error",
     "traceback": [
      "\u001b[0;31m---------------------------------------------------------------------------\u001b[0m",
      "\u001b[0;31mAssertionError\u001b[0m                            Traceback (most recent call last)",
      "Cell \u001b[0;32mIn[20], line 2\u001b[0m\n\u001b[1;32m      1\u001b[0m \u001b[38;5;66;03m#There is always the same issue\u001b[39;00m\n\u001b[0;32m----> 2\u001b[0m \u001b[43mF\u001b[49m\u001b[43m(\u001b[49m\u001b[43mPP\u001b[49m\u001b[43m)\u001b[49m\n",
      "File \u001b[0;32m~/Documents/pratical-clapoti/30-05-24-train/isogenies/Kani_endomorphism.py:272\u001b[0m, in \u001b[0;36mKaniEndoHalf.__call__\u001b[0;34m(self, P)\u001b[0m\n\u001b[1;32m    271\u001b[0m \u001b[38;5;28;01mdef\u001b[39;00m \u001b[38;5;21m__call__\u001b[39m(\u001b[38;5;28mself\u001b[39m,P):\n\u001b[0;32m--> 272\u001b[0m \t\u001b[38;5;28;01mreturn\u001b[39;00m \u001b[38;5;28;43mself\u001b[39;49m\u001b[38;5;241;43m.\u001b[39;49m\u001b[43mevaluate\u001b[49m\u001b[43m(\u001b[49m\u001b[43mP\u001b[49m\u001b[43m)\u001b[49m\n",
      "File \u001b[0;32m~/Documents/pratical-clapoti/30-05-24-train/isogenies/Kani_endomorphism.py:266\u001b[0m, in \u001b[0;36mKaniEndoHalf.evaluate\u001b[0;34m(self, P)\u001b[0m\n\u001b[1;32m    264\u001b[0m \tQ\u001b[38;5;241m=\u001b[39mP\n\u001b[1;32m    265\u001b[0m FP\u001b[38;5;241m=\u001b[39m\u001b[38;5;28mself\u001b[39m\u001b[38;5;241m.\u001b[39mF1\u001b[38;5;241m.\u001b[39mevaluate_isogeny(Q)\n\u001b[0;32m--> 266\u001b[0m FP\u001b[38;5;241m=\u001b[39m\u001b[38;5;28;43mself\u001b[39;49m\u001b[38;5;241;43m.\u001b[39;49m\u001b[43mF2\u001b[49m\u001b[38;5;241;43m.\u001b[39;49m\u001b[43mevaluate_isogeny\u001b[49m\u001b[43m(\u001b[49m\u001b[43mFP\u001b[49m\u001b[43m)\u001b[49m\n\u001b[1;32m    267\u001b[0m \u001b[38;5;28;01mif\u001b[39;00m \u001b[38;5;28mself\u001b[39m\u001b[38;5;241m.\u001b[39mswap:\n\u001b[1;32m    268\u001b[0m \tFP\u001b[38;5;241m=\u001b[39mTuplePoint(FP[\u001b[38;5;241m0\u001b[39m],\u001b[38;5;241m-\u001b[39mFP[\u001b[38;5;241m1\u001b[39m],FP[\u001b[38;5;241m3\u001b[39m],FP[\u001b[38;5;241m2\u001b[39m])\n",
      "File \u001b[0;32m~/Documents/pratical-clapoti/30-05-24-train/isogenies/isogeny_chain_dim4.py:102\u001b[0m, in \u001b[0;36mDualIsogenyChainDim4.evaluate_isogeny\u001b[0;34m(self, P)\u001b[0m\n\u001b[1;32m    100\u001b[0m Q\u001b[38;5;241m=\u001b[39mP\n\u001b[1;32m    101\u001b[0m \u001b[38;5;28;01mfor\u001b[39;00m j \u001b[38;5;129;01min\u001b[39;00m \u001b[38;5;28mrange\u001b[39m(n):\n\u001b[0;32m--> 102\u001b[0m \tQ\u001b[38;5;241m=\u001b[39m\u001b[38;5;28;43mself\u001b[39;49m\u001b[38;5;241;43m.\u001b[39;49m\u001b[43m_isogenies\u001b[49m\u001b[43m[\u001b[49m\u001b[43mj\u001b[49m\u001b[43m]\u001b[49m\u001b[43m(\u001b[49m\u001b[43mQ\u001b[49m\u001b[43m)\u001b[49m\n\u001b[1;32m    103\u001b[0m \u001b[38;5;28;01mreturn\u001b[39;00m Q\n",
      "File \u001b[0;32m~/Documents/pratical-clapoti/30-05-24-train/isogenies/Kani_gluing_isogeny_chain_dim4.py:304\u001b[0m, in \u001b[0;36mKaniSplittingIsogenyChainDim4.__call__\u001b[0;34m(self, P)\u001b[0m\n\u001b[1;32m    303\u001b[0m \u001b[38;5;28;01mdef\u001b[39;00m \u001b[38;5;21m__call__\u001b[39m(\u001b[38;5;28mself\u001b[39m,P):\n\u001b[0;32m--> 304\u001b[0m \t\u001b[38;5;28;01mreturn\u001b[39;00m \u001b[38;5;28;43mself\u001b[39;49m\u001b[38;5;241;43m.\u001b[39;49m\u001b[43mevaluate\u001b[49m\u001b[43m(\u001b[49m\u001b[43mP\u001b[49m\u001b[43m)\u001b[49m\n",
      "File \u001b[0;32m~/Documents/pratical-clapoti/30-05-24-train/isogenies/Kani_gluing_isogeny_chain_dim4.py:298\u001b[0m, in \u001b[0;36mKaniSplittingIsogenyChainDim4.evaluate\u001b[0;34m(self, P)\u001b[0m\n\u001b[1;32m    295\u001b[0m Q1, Q2 \u001b[38;5;241m=\u001b[39m \u001b[38;5;28mself\u001b[39m\u001b[38;5;241m.\u001b[39mcodomain_product\u001b[38;5;241m.\u001b[39mto_theta_points(Q)\n\u001b[1;32m    296\u001b[0m Q1, Q2 \u001b[38;5;241m=\u001b[39m \u001b[38;5;28mself\u001b[39m\u001b[38;5;241m.\u001b[39m_isogenies_dim2\u001b[38;5;241m.\u001b[39m_domain(Q1\u001b[38;5;241m.\u001b[39mhadamard()), \u001b[38;5;28mself\u001b[39m\u001b[38;5;241m.\u001b[39m_isogenies_dim2\u001b[38;5;241m.\u001b[39m_domain(Q2\u001b[38;5;241m.\u001b[39mhadamard()) \n\u001b[0;32m--> 298\u001b[0m Q1 \u001b[38;5;241m=\u001b[39m \u001b[38;5;28;43mself\u001b[39;49m\u001b[38;5;241;43m.\u001b[39;49m\u001b[43m_isogenies_dim2\u001b[49m\u001b[43m(\u001b[49m\u001b[43mQ1\u001b[49m\u001b[43m)\u001b[49m\n\u001b[1;32m    299\u001b[0m Q2 \u001b[38;5;241m=\u001b[39m \u001b[38;5;28mself\u001b[39m\u001b[38;5;241m.\u001b[39m_isogenies_dim2(Q2)\n\u001b[1;32m    301\u001b[0m \u001b[38;5;28;01mreturn\u001b[39;00m TuplePoint(Q1[\u001b[38;5;241m0\u001b[39m],Q2[\u001b[38;5;241m0\u001b[39m],Q1[\u001b[38;5;241m1\u001b[39m],Q2[\u001b[38;5;241m1\u001b[39m])\n",
      "File \u001b[0;32m~/Documents/pratical-clapoti/30-05-24-train/isogenies_dim2/isogeny_chain_dim2.py:178\u001b[0m, in \u001b[0;36mDualIsogenyChainDim2.__call__\u001b[0;34m(self, P)\u001b[0m\n\u001b[1;32m    174\u001b[0m \u001b[38;5;28;01mdef\u001b[39;00m \u001b[38;5;21m__call__\u001b[39m(\u001b[38;5;28mself\u001b[39m, P):\n\u001b[1;32m    175\u001b[0m \u001b[38;5;250m    \u001b[39m\u001b[38;5;124;03m\"\"\"\u001b[39;00m\n\u001b[1;32m    176\u001b[0m \u001b[38;5;124;03m    Evaluate a ThetaPointDim2 under the action of this isogeny.\u001b[39;00m\n\u001b[1;32m    177\u001b[0m \u001b[38;5;124;03m    \"\"\"\u001b[39;00m\n\u001b[0;32m--> 178\u001b[0m     \u001b[38;5;28;01mreturn\u001b[39;00m \u001b[38;5;28;43mself\u001b[39;49m\u001b[38;5;241;43m.\u001b[39;49m\u001b[43mevaluate_isogeny\u001b[49m\u001b[43m(\u001b[49m\u001b[43mP\u001b[49m\u001b[43m)\u001b[49m\n",
      "File \u001b[0;32m~/Documents/pratical-clapoti/30-05-24-train/isogenies_dim2/isogeny_chain_dim2.py:171\u001b[0m, in \u001b[0;36mDualIsogenyChainDim2.evaluate_isogeny\u001b[0;34m(self, P)\u001b[0m\n\u001b[1;32m    169\u001b[0m n\u001b[38;5;241m=\u001b[39m\u001b[38;5;28mlen\u001b[39m(\u001b[38;5;28mself\u001b[39m\u001b[38;5;241m.\u001b[39m_phis)\n\u001b[1;32m    170\u001b[0m \u001b[38;5;28;01mfor\u001b[39;00m i \u001b[38;5;129;01min\u001b[39;00m \u001b[38;5;28mrange\u001b[39m(n):\n\u001b[0;32m--> 171\u001b[0m     P \u001b[38;5;241m=\u001b[39m \u001b[38;5;28;43mself\u001b[39;49m\u001b[38;5;241;43m.\u001b[39;49m\u001b[43m_phis\u001b[49m\u001b[43m[\u001b[49m\u001b[43mi\u001b[49m\u001b[43m]\u001b[49m\u001b[43m(\u001b[49m\u001b[43mP\u001b[49m\u001b[43m)\u001b[49m\n\u001b[1;32m    172\u001b[0m \u001b[38;5;28;01mreturn\u001b[39;00m P\n",
      "File \u001b[0;32m~/Documents/pratical-clapoti/30-05-24-train/isogenies_dim2/gluing_isogeny_dim2.py:270\u001b[0m, in \u001b[0;36mDualGluingThetaIsogenyDim2.__call__\u001b[0;34m(self, P)\u001b[0m\n\u001b[1;32m    266\u001b[0m X2\u001b[38;5;241m=\u001b[39mZ1X2\u001b[38;5;241m*\u001b[39mZ2_inv\u001b[38;5;66;03m# Normalize (X2:Z2)=(X2/Z2:1)\u001b[39;00m\n\u001b[1;32m    268\u001b[0m X1\u001b[38;5;241m=\u001b[39mX1Z2\u001b[38;5;241m*\u001b[39mZ2_inv\n\u001b[0;32m--> 270\u001b[0m \u001b[38;5;28;01massert\u001b[39;00m X1\u001b[38;5;241m*\u001b[39mZ1X2\u001b[38;5;241m==\u001b[39mX1X2\n\u001b[1;32m    271\u001b[0m P1 \u001b[38;5;241m=\u001b[39m lift_kummer_montgomery_point(E1, X1)\n\u001b[1;32m    272\u001b[0m P2 \u001b[38;5;241m=\u001b[39m lift_kummer_montgomery_point(E2, X2)\n",
      "\u001b[0;31mAssertionError\u001b[0m: "
     ]
    }
   ],
   "source": [
    "#There is always the same issue\n",
    "F(PP)"
   ]
  },
  {
   "cell_type": "code",
   "execution_count": null,
   "id": "a45b042e-b9de-433f-84d7-22d8580a98db",
   "metadata": {},
   "outputs": [],
   "source": []
  }
 ],
 "metadata": {
  "kernelspec": {
   "display_name": "SageMath 10.3",
   "language": "sage",
   "name": "sagemath-10.3"
  },
  "language_info": {
   "codemirror_mode": {
    "name": "ipython",
    "version": 3
   },
   "file_extension": ".py",
   "mimetype": "text/x-python",
   "name": "python",
   "nbconvert_exporter": "python",
   "pygments_lexer": "ipython3",
   "version": "3.11.8"
  }
 },
 "nbformat": 4,
 "nbformat_minor": 5
}
